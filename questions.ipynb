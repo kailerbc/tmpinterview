{
 "cells": [
  {
   "cell_type": "markdown",
   "metadata": {
    "colab_type": "text",
    "id": "-jvAsgiqfD7M"
   },
   "source": [
    "### Use below generated dataset to anwser below questions:\n",
    "- `dftransaction` is a set of random transactions with Client ID and Dollar Amount. Positive dollar amount indicate the transactions is BUY where negative dollar amount indicate it's SELL.\n",
    "- `dfcalls` is a set of call record with client id of the call. \n",
    "- `CallClientID` from `dfcalls` can be joined with `ClientID` from `dftransaction` to linked the two dataset"
   ]
  },
  {
   "cell_type": "code",
   "execution_count": 136,
   "metadata": {},
   "outputs": [],
   "source": [
    "import pandas as pd\n",
    "import numpy as np\n",
    "\n",
    "def generate_data():\n",
    "    # Transactions\n",
    "    transactionid = np.arange(1,10001)\n",
    "    clientid = np.random.randint(1,5000, size=10000)\n",
    "    dollar_amount = np.random.normal(0, 1000, size=10000)\n",
    "    dftransaction = pd.DataFrame({'TransactionID':transactionid,'ClientID':clientid,'DollarAmount':dollar_amount})\n",
    "    # Calls\n",
    "    callid = np.arange(1,501)\n",
    "    call_clientid = np.random.choice(clientid, 500)\n",
    "    dfcalls = pd.DataFrame({'CallID':callid,'CallClientID':call_clientid})\n",
    "    return dftransaction, dfcalls\n",
    "\n",
    "def load_data():\n",
    "    dftransaction = pd.read_csv('sample_transaction.csv')\n",
    "    dfcalls = pd.read_csv('sample_calls.csv')\n",
    "    return dftransaction, dfcalls\n",
    "\n",
    "#dftransaction, dfcalls = generate_data()\n",
    "dftransaction, dfcalls = load_data()"
   ]
  },
  {
   "cell_type": "markdown",
   "metadata": {},
   "source": [
    "#### Q1. What is number of unique clients in `dftransaction` and `dfcalls` coorespondingly?"
   ]
  },
  {
   "cell_type": "code",
   "execution_count": null,
   "metadata": {},
   "outputs": [],
   "source": []
  },
  {
   "cell_type": "markdown",
   "metadata": {},
   "source": [
    "#### Q2. How many clients have been called vs not been called?"
   ]
  },
  {
   "cell_type": "code",
   "execution_count": null,
   "metadata": {},
   "outputs": [],
   "source": []
  },
  {
   "cell_type": "markdown",
   "metadata": {},
   "source": [
    "#### Q3. How many clients have been called multiple times? Find an example client from the dataset and list all the transactions made by the client"
   ]
  },
  {
   "cell_type": "code",
   "execution_count": null,
   "metadata": {},
   "outputs": [],
   "source": []
  },
  {
   "cell_type": "markdown",
   "metadata": {},
   "source": [
    "#### Q4. New requirement: if a client has been called multiple times, only the largest Call ID should be matched to transaction table. \n",
    "1. Modify the joined dataset to achieve this requirement. (hint: the result record count should be 10000)\n",
    "1. Validate the above example only have\n",
    "1. What's the average transaction dollar amount of the called vs. not called groups in this case?"
   ]
  },
  {
   "cell_type": "code",
   "execution_count": null,
   "metadata": {},
   "outputs": [],
   "source": []
  }
 ],
 "metadata": {
  "colab": {
   "collapsed_sections": [],
   "name": "questions (1).ipynb",
   "provenance": [],
   "toc_visible": true
  },
  "kernelspec": {
   "display_name": "Python 3",
   "language": "python",
   "name": "python3"
  },
  "language_info": {
   "codemirror_mode": {
    "name": "ipython",
    "version": 3
   },
   "file_extension": ".py",
   "mimetype": "text/x-python",
   "name": "python",
   "nbconvert_exporter": "python",
   "pygments_lexer": "ipython3",
   "version": "3.7.6"
  }
 },
 "nbformat": 4,
 "nbformat_minor": 1
}
