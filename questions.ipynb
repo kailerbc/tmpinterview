{
 "cells": [
  {
   "cell_type": "markdown",
   "metadata": {
    "colab_type": "text",
    "id": "-jvAsgiqfD7M"
   },
   "source": [
    "### Use below generated dataset to anwser below questions:\n",
    "- `dftransaction` is a set of random transactions with Transaction Date, Client ID and Dollar Amount. Positive dollar amount indicate the transactions is BUY where negative dollar amount indicate it's SELL.\n",
    "- `dfcalls` is a set of call record with Call Date and Client ID of the call. \n",
    "- `CallClientID` from `dfcalls` can be joined with `ClientID` from `dftransaction` to linked the two dataset"
   ]
  },
  {
   "cell_type": "code",
   "execution_count": 1,
   "metadata": {},
   "outputs": [],
   "source": [
    "import pandas as pd\n",
    "import numpy as np\n",
    "\n",
    "def load_data1():\n",
    "    dftransaction = pd.read_csv('transaction1.csv').drop(columns=['Unnamed: 0'])\n",
    "    dftransaction['TransactionDate'] = pd.to_datetime(dftransaction['TransactionDate'])\n",
    "    dfcalls = pd.read_csv('calls1.csv').drop(columns=['Unnamed: 0'])\n",
    "    dfcalls['CallDate'] = pd.to_datetime(dfcalls['CallDate'])\n",
    "    return dftransaction, dfcalls\n",
    "\n",
    "def load_data2():\n",
    "    dftransaction = pd.read_csv('transaction2.csv').drop(columns=['Unnamed: 0'])\n",
    "    dftransaction['TransactionDate'] = pd.to_datetime(dftransaction['TransactionDate'])\n",
    "    dfcalls = pd.read_csv('calls2.csv').drop(columns=['Unnamed: 0'])\n",
    "    dfcalls['CallDate'] = pd.to_datetime(dfcalls['CallDate'])\n",
    "    return dftransaction, dfcalls\n",
    "\n",
    "dftransaction1, dfcalls1 = load_data1()"
   ]
  },
  {
   "cell_type": "markdown",
   "metadata": {},
   "source": [
    "#### Q1. Preview the two dataframes. How many unique clients in `dftransaction` and `dfcalls` correspondingly?"
   ]
  },
  {
   "cell_type": "code",
   "execution_count": null,
   "metadata": {},
   "outputs": [],
   "source": []
  },
  {
   "cell_type": "markdown",
   "metadata": {},
   "source": [
    "#### Q2. We say a transaction is covered if the client is called less than 7 days before the transaction date. `For example, client 1 was called on 2020-03-01, client 1 made a transaction on 2020-03-03, then this transaction is covered. If client 1 made a transaction on 2020-03-10, then the transaction is not covered.` \n",
    "#### Find out the average transaction dollar amount for covered vs. non covered transactions."
   ]
  },
  {
   "cell_type": "code",
   "execution_count": null,
   "metadata": {},
   "outputs": [],
   "source": []
  },
  {
   "cell_type": "markdown",
   "metadata": {},
   "source": [
    "#### Q3. Load the below new transactions and calls pair: (`dftransaction2, dfcall2`). The dollar amount from both set are draw from normal distribution with adjusted mean but same variance. However, the covered calls from one of the set are likely to have higher transaction dollar amount than normal.\n",
    "#### Use statistic methods to find out which set is modified (`dftransaction1,dfcall1`) or (`dftransaction2,dfcall2`)?"
   ]
  },
  {
   "cell_type": "code",
   "execution_count": 6,
   "metadata": {},
   "outputs": [],
   "source": [
    "dftransaction2, dfcalls2 = load_data2()"
   ]
  },
  {
   "cell_type": "code",
   "execution_count": null,
   "metadata": {},
   "outputs": [],
   "source": []
  }
 ],
 "metadata": {
  "colab": {
   "collapsed_sections": [],
   "name": "questions (1).ipynb",
   "provenance": [],
   "toc_visible": true
  },
  "kernelspec": {
   "display_name": "Python 3",
   "language": "python",
   "name": "python3"
  },
  "language_info": {
   "codemirror_mode": {
    "name": "ipython",
    "version": 3
   },
   "file_extension": ".py",
   "mimetype": "text/x-python",
   "name": "python",
   "nbconvert_exporter": "python",
   "pygments_lexer": "ipython3",
   "version": "3.7.6"
  }
 },
 "nbformat": 4,
 "nbformat_minor": 4
}
